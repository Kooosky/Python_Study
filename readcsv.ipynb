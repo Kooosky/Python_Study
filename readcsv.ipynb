{
 "cells": [
  {
   "cell_type": "code",
   "execution_count": 1,
   "metadata": {
    "collapsed": false
   },
   "outputs": [
    {
     "data": {
      "text/plain": [
       "'/Users/kousuke.suzuki/Downloads'"
      ]
     },
     "execution_count": 1,
     "metadata": {},
     "output_type": "execute_result"
    }
   ],
   "source": [
    "pwd"
   ]
  },
  {
   "cell_type": "code",
   "execution_count": 2,
   "metadata": {
    "collapsed": false
   },
   "outputs": [
    {
     "name": "stdout",
     "output_type": "stream",
     "text": [
      "/Users/kousuke.suzuki/Desktop/Python_Study\n"
     ]
    }
   ],
   "source": [
    "cd ~/Desktop/Python_Study/"
   ]
  },
  {
   "cell_type": "code",
   "execution_count": 3,
   "metadata": {
    "collapsed": true
   },
   "outputs": [],
   "source": [
    "from pandas import Series, DataFrame\n",
    "import pandas as pd"
   ]
  },
  {
   "cell_type": "code",
   "execution_count": 8,
   "metadata": {
    "collapsed": false
   },
   "outputs": [
    {
     "name": "stdout",
     "output_type": "stream",
     "text": [
      "   0              1   2   3           4           5          6   7    8    9   \\\n",
      "0   1  1000011000005   1   0  2015-10-26  2015-10-05    国立国会図書館 NaN  101  東京都   \n",
      "1   2  1000012010003   1   0  2015-10-26  2015-10-05      内閣法制局 NaN  101  東京都   \n",
      "2   3  1000012010011   1   0  2015-10-26  2015-10-05  郵政民営化推進本部 NaN  101  東京都   \n",
      "3   4  1000012010028   1   0  2015-10-26  2015-10-05  国土強靱化推進本部 NaN  101  東京都   \n",
      "4   5  1000012020002   1   0  2015-10-26  2015-10-05   公害等調整委員会 NaN  101  東京都   \n",
      "\n",
      "      ...      13   14       15  16  17   18  19  20   21          22  \n",
      "0     ...      13  101  1000014 NaN NaN  NaN NaN NaN  NaN  2015-10-05  \n",
      "1     ...      13  101  1000013 NaN NaN  NaN NaN NaN  NaN  2015-10-05  \n",
      "2     ...      13  101  1000014 NaN NaN  NaN NaN NaN  NaN  2015-10-05  \n",
      "3     ...      13  101  1000014 NaN NaN  NaN NaN NaN  NaN  2015-10-05  \n",
      "4     ...      13  101  1000013 NaN NaN  NaN NaN NaN  NaN  2015-10-05  \n",
      "\n",
      "[5 rows x 23 columns]\n"
     ]
    }
   ],
   "source": [
    "df=pd.read_csv('13_tokyo_all_20151130.csv',header=None,encoding='utf-8')\n",
    "print(df.head())"
   ]
  },
  {
   "cell_type": "code",
   "execution_count": null,
   "metadata": {
    "collapsed": true
   },
   "outputs": [],
   "source": []
  }
 ],
 "metadata": {
  "kernelspec": {
   "display_name": "Python 3",
   "language": "python",
   "name": "python3"
  },
  "language_info": {
   "codemirror_mode": {
    "name": "ipython",
    "version": 3
   },
   "file_extension": ".py",
   "mimetype": "text/x-python",
   "name": "python",
   "nbconvert_exporter": "python",
   "pygments_lexer": "ipython3",
   "version": "3.5.0"
  }
 },
 "nbformat": 4,
 "nbformat_minor": 0
}
