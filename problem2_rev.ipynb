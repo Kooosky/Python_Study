{
 "cells": [
  {
   "cell_type": "code",
   "execution_count": 1,
   "metadata": {
    "collapsed": true
   },
   "outputs": [],
   "source": [
    "def func2_2(s, a):\n",
    "    wds = s.replace(\".\", \"\").split(\" \")\n",
    "    result = []\n",
    "    for w in wds:\n",
    "        if len(w) >= int(a):\n",
    "            result.append(w)\n",
    "    return result"
   ]
  },
  {
   "cell_type": "markdown",
   "metadata": {},
   "source": [
    "Problem_2 問題2 [リンク](https://github.com/hmj/pythonstudy/blob/master/problem_2.md)"
   ]
  },
  {
   "cell_type": "code",
   "execution_count": 2,
   "metadata": {
    "collapsed": false
   },
   "outputs": [
    {
     "data": {
      "text/plain": [
       "['Machine',\n",
       " 'learning',\n",
       " 'subfield',\n",
       " 'computer',\n",
       " 'science',\n",
       " 'evolved',\n",
       " 'study',\n",
       " 'pattern',\n",
       " 'recognition',\n",
       " 'computational',\n",
       " 'learning',\n",
       " 'theory',\n",
       " 'artificial',\n",
       " 'intelligence']"
      ]
     },
     "execution_count": 2,
     "metadata": {},
     "output_type": "execute_result"
    }
   ],
   "source": [
    "s = \"Machine learning is a subfield of computer science that evolved from the study of pattern recognition and computational learning theory in artificial intelligence.\"\n",
    "func2_2(s, 5)"
   ]
  },
  {
   "cell_type": "code",
   "execution_count": 8,
   "metadata": {
    "collapsed": false
   },
   "outputs": [],
   "source": [
    "def func_2_4_1(N):\n",
    "    [print(n) for n in range(N + 1)]"
   ]
  },
  {
   "cell_type": "markdown",
   "metadata": {},
   "source": [
    "Problem_2 問題4-1 [リンク](https://github.com/hmj/pythonstudy/blob/master/problem_2.md)"
   ]
  },
  {
   "cell_type": "code",
   "execution_count": 13,
   "metadata": {
    "collapsed": false
   },
   "outputs": [
    {
     "name": "stdout",
     "output_type": "stream",
     "text": [
      "0\n",
      "1\n",
      "2\n",
      "3\n",
      "4\n",
      "5\n"
     ]
    }
   ],
   "source": [
    "func_2_4_1(5)"
   ]
  },
  {
   "cell_type": "code",
   "execution_count": 43,
   "metadata": {
    "collapsed": false
   },
   "outputs": [
    {
     "name": "stdout",
     "output_type": "stream",
     "text": [
      "ラーメン\n",
      "餃子\n",
      "チャーハン\n",
      "タンメン\n",
      "寿司\n"
     ]
    }
   ],
   "source": [
    "foods = ['ラーメン', '餃子', 'チャーハン', 'タンメン', '寿司']\n",
    "for w in foods:\n",
    "    print(w)"
   ]
  },
  {
   "cell_type": "markdown",
   "metadata": {},
   "source": [
    "Problem_2 問題4-2 [リンク](https://github.com/hmj/pythonstudy/blob/master/problem_2.md)"
   ]
  },
  {
   "cell_type": "code",
   "execution_count": 23,
   "metadata": {
    "collapsed": false
   },
   "outputs": [
    {
     "name": "stdout",
     "output_type": "stream",
     "text": [
      "0 ラーメン\n",
      "1 餃子\n",
      "2 チャーハン\n",
      "3 タンメン\n",
      "4 寿司\n"
     ]
    }
   ],
   "source": [
    "foods = ['ラーメン', '餃子', 'チャーハン', 'タンメン', '寿司']\n",
    "for i, w in enumerate(foods):\n",
    "    print(i, w)"
   ]
  },
  {
   "cell_type": "markdown",
   "metadata": {},
   "source": [
    "Problem_2 問題4-3 [リンク](https://github.com/hmj/pythonstudy/blob/master/problem_2.md)"
   ]
  },
  {
   "cell_type": "code",
   "execution_count": 27,
   "metadata": {
    "collapsed": false
   },
   "outputs": [
    {
     "name": "stdout",
     "output_type": "stream",
     "text": [
      "ラーメンは中華料理のジャンルです。\n",
      "餃子は中華料理のジャンルです。\n",
      "チャーハンは中華料理のジャンルです。\n",
      "タンメンは中華料理のジャンルです。\n",
      "寿司は和食のジャンルです。\n"
     ]
    }
   ],
   "source": [
    "foods = ['ラーメン', '餃子', 'チャーハン', 'タンメン', '寿司']\n",
    "genre = ['中華料理', '中華料理', '中華料理', '中華料理', '和食']\n",
    "for f, g in zip(foods, genre):\n",
    "    print('{0}は{1}のジャンルです。'.format(f, g))"
   ]
  },
  {
   "cell_type": "markdown",
   "metadata": {},
   "source": [
    "Problem_2 問題4-4 [リンク](https://github.com/hmj/pythonstudy/blob/master/problem_2.md)"
   ]
  },
  {
   "cell_type": "code",
   "execution_count": 54,
   "metadata": {
    "collapsed": false
   },
   "outputs": [
    {
     "name": "stdout",
     "output_type": "stream",
     "text": [
      "a\n",
      "b\n",
      "c\n",
      "d\n",
      "e\n",
      "f\n",
      "g\n"
     ]
    }
   ],
   "source": [
    "s = 'abcdefg'\n",
    "for ch in s:\n",
    "    print(ch)"
   ]
  },
  {
   "cell_type": "markdown",
   "metadata": {},
   "source": [
    "Problem_2 問題4-5 [リンク](https://github.com/hmj/pythonstudy/blob/master/problem_2.md)"
   ]
  },
  {
   "cell_type": "code",
   "execution_count": 99,
   "metadata": {
    "collapsed": false
   },
   "outputs": [
    {
     "name": "stdout",
     "output_type": "stream",
     "text": [
      "a 5\n",
      "d 7\n",
      "b 3\n",
      "e 1\n",
      "c 2\n"
     ]
    }
   ],
   "source": [
    "s = 'addbabadbecdddaadc'\n",
    "while s != \"\":\n",
    "    cn=1\n",
    "    for m in range(1, len(s)):\n",
    "        if s[0] == s[m]:\n",
    "            cn += 1\n",
    "    print(s[0],cn)\n",
    "    s=s.replace(s[0], \"\")"
   ]
  },
  {
   "cell_type": "markdown",
   "metadata": {},
   "source": [
    "Problem_2 問題4-6 [リンク](https://github.com/hmj/pythonstudy/blob/master/problem_2.md)"
   ]
  },
  {
   "cell_type": "code",
   "execution_count": 13,
   "metadata": {
    "collapsed": false
   },
   "outputs": [
    {
     "name": "stdout",
     "output_type": "stream",
     "text": [
      "a 5\n",
      "b 3\n",
      "c 2\n",
      "d 7\n",
      "e 1\n"
     ]
    }
   ],
   "source": [
    "s = 'addbabadbecdddaadc'\n",
    "ch_old=''\n",
    "for ch in sorted(list(s)):\n",
    "    if ch != ch_old:\n",
    "        print(ch,list(s).count(ch))\n",
    "    ch_old=ch"
   ]
  },
  {
   "cell_type": "markdown",
   "metadata": {},
   "source": [
    "Problem_2 問題4-6（修正）[リンク](https://github.com/hmj/pythonstudy/blob/master/problem_2.md)"
   ]
  },
  {
   "cell_type": "code",
   "execution_count": null,
   "metadata": {
    "collapsed": true
   },
   "outputs": [],
   "source": []
  }
 ],
 "metadata": {
  "kernelspec": {
   "display_name": "Python 3",
   "language": "python",
   "name": "python3"
  },
  "language_info": {
   "codemirror_mode": {
    "name": "ipython",
    "version": 3
   },
   "file_extension": ".py",
   "mimetype": "text/x-python",
   "name": "python",
   "nbconvert_exporter": "python",
   "pygments_lexer": "ipython3",
   "version": "3.5.0"
  }
 },
 "nbformat": 4,
 "nbformat_minor": 0
}
