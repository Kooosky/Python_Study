{
 "cells": [
  {
   "cell_type": "code",
   "execution_count": 12,
   "metadata": {
    "collapsed": true
   },
   "outputs": [],
   "source": [
    "def maxtomin(lst):\n",
    "    mx = lst[0]\n",
    "    mn = lst[0]\n",
    "    for i in range(len(lst)):\n",
    "        if lst[i] > mx:\n",
    "            mx = lst[i]\n",
    "        if lst[i] < mn:\n",
    "            mn = lst[i]\n",
    "    return [mx, mn]"
   ]
  },
  {
   "cell_type": "markdown",
   "metadata": {},
   "source": [
    "problem1-1-b [リンク](https://github.com/hmj/pythonstudy/blob/master/problem_1.md)"
   ]
  },
  {
   "cell_type": "code",
   "execution_count": 13,
   "metadata": {
    "collapsed": false
   },
   "outputs": [
    {
     "data": {
      "text/plain": [
       "[20, 1]"
      ]
     },
     "execution_count": 13,
     "metadata": {},
     "output_type": "execute_result"
    }
   ],
   "source": [
    "maxtomin([2,6,4,5,10,20,1])"
   ]
  },
  {
   "cell_type": "code",
   "execution_count": 22,
   "metadata": {
    "collapsed": true
   },
   "outputs": [],
   "source": [
    "import math\n",
    "\n",
    "def isprime(N):\n",
    "    \"\"\"素数ならTrue, そうでなければFalseを返す\"\"\"\n",
    "    if N == 1:\n",
    "        flg = False\n",
    "    else:\n",
    "        flg = True\n",
    "        \n",
    "    for i in range(2, N):\n",
    "        if (N % i) == 0:\n",
    "            flg = False\n",
    "            break\n",
    "    \n",
    "    return flg"
   ]
  },
  {
   "cell_type": "markdown",
   "metadata": {},
   "source": [
    "problem1-2-1 [リンク](https://github.com/hmj/pythonstudy/blob/master/problem_1.md)"
   ]
  },
  {
   "cell_type": "code",
   "execution_count": 25,
   "metadata": {
    "collapsed": false
   },
   "outputs": [
    {
     "data": {
      "text/plain": [
       "True"
      ]
     },
     "execution_count": 25,
     "metadata": {},
     "output_type": "execute_result"
    }
   ],
   "source": [
    "isprime(2)"
   ]
  },
  {
   "cell_type": "code",
   "execution_count": 27,
   "metadata": {
    "collapsed": false
   },
   "outputs": [],
   "source": [
    "import math\n",
    "\n",
    "def isprime(N):\n",
    "    \"\"\"素数ならTrue, そうでなければFalseを返す\"\"\"\n",
    "    \n",
    "    mxdv = math.floor(math.sqrt(N))\n",
    "    if N == 1:\n",
    "        flg = False\n",
    "    else:\n",
    "        flg = True\n",
    "        \n",
    "    for i in range(2, mxdv+1):\n",
    "        if (N % i) == 0:\n",
    "            flg = False\n",
    "            break\n",
    "    \n",
    "    return flg"
   ]
  },
  {
   "cell_type": "markdown",
   "metadata": {},
   "source": [
    "problem1-2-2 [リンク](https://github.com/hmj/pythonstudy/blob/master/problem_1.md)"
   ]
  },
  {
   "cell_type": "code",
   "execution_count": 34,
   "metadata": {
    "collapsed": false
   },
   "outputs": [
    {
     "data": {
      "text/plain": [
       "False"
      ]
     },
     "execution_count": 34,
     "metadata": {},
     "output_type": "execute_result"
    }
   ],
   "source": [
    "isprime(1)"
   ]
  },
  {
   "cell_type": "code",
   "execution_count": 36,
   "metadata": {
    "collapsed": true
   },
   "outputs": [],
   "source": [
    "import math\n",
    "\n",
    "def eulerpj_7(n) :\n",
    "    \"\"\"n番目の素数を返す関数\"\"\"\n",
    "\n",
    "    \n",
    "    \"\"\"途中です！！\"\"\"\n",
    "    odr = \n",
    "    num =  #6番目=13\n",
    "\n",
    "    while odr <= n:\n",
    "        \n",
    "        if (num%2)==0:\n",
    "            num+=1\n",
    "            continue\n",
    "        if (num%3)==0:\n",
    "            num+=1\n",
    "            continue\n",
    "        if (num%5)==0:\n",
    "            num+=1\n",
    "            continue\n",
    "\n",
    "        mxdv = math.floor(math.sqrt(num))\n",
    "        flg = True\n",
    "        for i in range(7, mxdv+1):\n",
    "            if (num % i) == 0:\n",
    "                flg = False #素数ならTrue, そうでなければFalse\n",
    "                num += 1\n",
    "                break\n",
    "        if flg == True:\n",
    "            odr += 1\n",
    "            if odr == n:\n",
    "                return num\n",
    "        num += 1\n",
    "        \n",
    "    return num"
   ]
  },
  {
   "cell_type": "code",
   "execution_count": null,
   "metadata": {
    "collapsed": true
   },
   "outputs": [],
   "source": []
  }
 ],
 "metadata": {
  "kernelspec": {
   "display_name": "Python 3",
   "language": "python",
   "name": "python3"
  },
  "language_info": {
   "codemirror_mode": {
    "name": "ipython",
    "version": 3
   },
   "file_extension": ".py",
   "mimetype": "text/x-python",
   "name": "python",
   "nbconvert_exporter": "python",
   "pygments_lexer": "ipython3",
   "version": "3.5.0"
  }
 },
 "nbformat": 4,
 "nbformat_minor": 0
}
